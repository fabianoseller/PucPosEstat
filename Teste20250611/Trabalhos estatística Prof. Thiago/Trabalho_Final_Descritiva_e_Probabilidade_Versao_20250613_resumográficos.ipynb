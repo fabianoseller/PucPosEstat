{
  "nbformat": 4,
  "nbformat_minor": 0,
  "metadata": {
    "colab": {
      "provenance": []
    },
    "kernelspec": {
      "name": "ir",
      "display_name": "R"
    },
    "language_info": {
      "name": "R"
    }
  },
  "cells": [
    {
      "cell_type": "markdown",
      "source": [
        "#Trabalho Final Descritiva e Probabilidade\n",
        "Alunos: Felipe Magno, Fabiano Antunes, Gabriela Araújo"
      ],
      "metadata": {
        "id": "Ztd74gb9xdAN"
      }
    },
    {
      "cell_type": "markdown",
      "source": [
        "## Análise 1: Estatística Descritiva do banco de microdados ENADE 2017"
      ],
      "metadata": {
        "id": "PlcXfMOigDwj"
      }
    },
    {
      "cell_type": "markdown",
      "source": [
        "Instalando e Carregando os pacotes necessários"
      ],
      "metadata": {
        "id": "wwX8ezNWzZnD"
      }
    },
    {
      "cell_type": "code",
      "source": [
        "vetor_pacotes=c(\"readr\",\n",
        "                \"ggplot2\",\n",
        "                \"plotly\",\n",
        "                \"e1071\",\n",
        "                \"dplyr\",\n",
        "                \"Hmisc\",\n",
        "                \"DescTools\",\n",
        "                \"esquisse\",\n",
        "                \"kableExtra\",\n",
        "                \"gridExtra\",\n",
        "                \"devtools\",\n",
        "                \"tidyr\",\n",
        "                \"patchwork\",\n",
        "                \"gridExtra\"\n",
        ")\n",
        "install.packages(vetor_pacotes)\n",
        "\n",
        "lapply(vetor_pacotes,\n",
        "       require,\n",
        "       character.only = TRUE)"
      ],
      "metadata": {
        "colab": {
          "base_uri": "https://localhost:8080/",
          "height": 1000
        },
        "id": "uxHeRkQSxn3v",
        "outputId": "ffbb66bc-c2fa-49e0-ece9-efc58b9b0d1b"
      },
      "execution_count": null,
      "outputs": [
        {
          "output_type": "stream",
          "name": "stderr",
          "text": [
            "Installing packages into ‘/usr/local/lib/R/site-library’\n",
            "(as ‘lib’ is unspecified)\n",
            "\n",
            "also installing the dependencies ‘R.oo’, ‘R.methodsS3’, ‘reactR’, ‘R.utils’, ‘checkmate’, ‘rootSolve’, ‘lmom’, ‘classInt’, ‘reactable’, ‘rio’, ‘toastui’, ‘writexl’, ‘lazyeval’, ‘crosstalk’, ‘proxy’, ‘htmlTable’, ‘viridis’, ‘colorspace’, ‘Formula’, ‘mvtnorm’, ‘expm’, ‘Exact’, ‘gld’, ‘datamods’, ‘phosphoricons’, ‘shinybusy’, ‘shinyWidgets’, ‘svglite’\n",
            "\n",
            "\n",
            "Loading required package: readr\n",
            "\n",
            "Loading required package: ggplot2\n",
            "\n",
            "Loading required package: plotly\n",
            "\n",
            "\n",
            "Attaching package: ‘plotly’\n",
            "\n",
            "\n",
            "The following object is masked from ‘package:ggplot2’:\n",
            "\n",
            "    last_plot\n",
            "\n",
            "\n",
            "The following object is masked from ‘package:stats’:\n",
            "\n",
            "    filter\n",
            "\n",
            "\n",
            "The following object is masked from ‘package:graphics’:\n",
            "\n",
            "    layout\n",
            "\n",
            "\n",
            "Loading required package: e1071\n",
            "\n",
            "Loading required package: dplyr\n",
            "\n",
            "\n",
            "Attaching package: ‘dplyr’\n",
            "\n",
            "\n",
            "The following objects are masked from ‘package:stats’:\n",
            "\n",
            "    filter, lag\n",
            "\n",
            "\n",
            "The following objects are masked from ‘package:base’:\n",
            "\n",
            "    intersect, setdiff, setequal, union\n",
            "\n",
            "\n",
            "Loading required package: Hmisc\n",
            "\n",
            "\n",
            "Attaching package: ‘Hmisc’\n",
            "\n",
            "\n",
            "The following objects are masked from ‘package:dplyr’:\n",
            "\n",
            "    src, summarize\n",
            "\n",
            "\n",
            "The following object is masked from ‘package:e1071’:\n",
            "\n",
            "    impute\n",
            "\n",
            "\n",
            "The following object is masked from ‘package:plotly’:\n",
            "\n",
            "    subplot\n",
            "\n",
            "\n",
            "The following objects are masked from ‘package:base’:\n",
            "\n",
            "    format.pval, units\n",
            "\n",
            "\n",
            "Loading required package: DescTools\n",
            "\n",
            "\n",
            "Attaching package: ‘DescTools’\n",
            "\n",
            "\n",
            "The following objects are masked from ‘package:Hmisc’:\n",
            "\n",
            "    %nin%, Label, Mean, Quantile\n",
            "\n",
            "\n",
            "Loading required package: esquisse\n",
            "\n",
            "Loading required package: kableExtra\n",
            "\n",
            "\n",
            "Attaching package: ‘kableExtra’\n",
            "\n",
            "\n",
            "The following object is masked from ‘package:dplyr’:\n",
            "\n",
            "    group_rows\n",
            "\n",
            "\n",
            "Loading required package: gridExtra\n",
            "\n",
            "\n",
            "Attaching package: ‘gridExtra’\n",
            "\n",
            "\n",
            "The following object is masked from ‘package:dplyr’:\n",
            "\n",
            "    combine\n",
            "\n",
            "\n",
            "Loading required package: devtools\n",
            "\n",
            "Loading required package: usethis\n",
            "\n",
            "Loading required package: tidyr\n",
            "\n",
            "Loading required package: patchwork\n",
            "\n"
          ]
        },
        {
          "output_type": "display_data",
          "data": {
            "text/html": [
              "<ol>\n",
              "\t<li>TRUE</li>\n",
              "\t<li>TRUE</li>\n",
              "\t<li>TRUE</li>\n",
              "\t<li>TRUE</li>\n",
              "\t<li>TRUE</li>\n",
              "\t<li>TRUE</li>\n",
              "\t<li>TRUE</li>\n",
              "\t<li>TRUE</li>\n",
              "\t<li>TRUE</li>\n",
              "\t<li>TRUE</li>\n",
              "\t<li>TRUE</li>\n",
              "\t<li>TRUE</li>\n",
              "\t<li>TRUE</li>\n",
              "\t<li>TRUE</li>\n",
              "</ol>\n"
            ],
            "text/markdown": "1. TRUE\n2. TRUE\n3. TRUE\n4. TRUE\n5. TRUE\n6. TRUE\n7. TRUE\n8. TRUE\n9. TRUE\n10. TRUE\n11. TRUE\n12. TRUE\n13. TRUE\n14. TRUE\n\n\n",
            "text/latex": "\\begin{enumerate}\n\\item TRUE\n\\item TRUE\n\\item TRUE\n\\item TRUE\n\\item TRUE\n\\item TRUE\n\\item TRUE\n\\item TRUE\n\\item TRUE\n\\item TRUE\n\\item TRUE\n\\item TRUE\n\\item TRUE\n\\item TRUE\n\\end{enumerate}\n",
            "text/plain": [
              "[[1]]\n",
              "[1] TRUE\n",
              "\n",
              "[[2]]\n",
              "[1] TRUE\n",
              "\n",
              "[[3]]\n",
              "[1] TRUE\n",
              "\n",
              "[[4]]\n",
              "[1] TRUE\n",
              "\n",
              "[[5]]\n",
              "[1] TRUE\n",
              "\n",
              "[[6]]\n",
              "[1] TRUE\n",
              "\n",
              "[[7]]\n",
              "[1] TRUE\n",
              "\n",
              "[[8]]\n",
              "[1] TRUE\n",
              "\n",
              "[[9]]\n",
              "[1] TRUE\n",
              "\n",
              "[[10]]\n",
              "[1] TRUE\n",
              "\n",
              "[[11]]\n",
              "[1] TRUE\n",
              "\n",
              "[[12]]\n",
              "[1] TRUE\n",
              "\n",
              "[[13]]\n",
              "[1] TRUE\n",
              "\n",
              "[[14]]\n",
              "[1] TRUE\n"
            ]
          },
          "metadata": {}
        }
      ]
    },
    {
      "cell_type": "markdown",
      "source": [
        "### A) Importando o banco de dados ENADE 17"
      ],
      "metadata": {
        "id": "qyx65ELFenl5"
      }
    },
    {
      "cell_type": "code",
      "source": [
        "enade2017 = read_csv2(\"MICRODADOS_ENADE_2017.txt\")"
      ],
      "metadata": {
        "colab": {
          "base_uri": "https://localhost:8080/"
        },
        "id": "Iu0Rnt_lzqzp",
        "outputId": "3e6d084e-c7b1-49b5-d39e-8979d9c2d7e6"
      },
      "execution_count": null,
      "outputs": [
        {
          "output_type": "stream",
          "name": "stderr",
          "text": [
            "\u001b[36mℹ\u001b[39m Using \u001b[34m\u001b[34m\"','\"\u001b[34m\u001b[39m as decimal and \u001b[34m\u001b[34m\"'.'\"\u001b[34m\u001b[39m as grouping mark. Use `read_delim()` for more control.\n",
            "\n",
            "\u001b[1mRows: \u001b[22m\u001b[34m537436\u001b[39m \u001b[1mColumns: \u001b[22m\u001b[34m150\u001b[39m\n",
            "\u001b[36m──\u001b[39m \u001b[1mColumn specification\u001b[22m \u001b[36m────────────────────────────────────────────────────────\u001b[39m\n",
            "\u001b[1mDelimiter:\u001b[22m \";\"\n",
            "\u001b[31mchr\u001b[39m (56): TP_SEXO, DS_VT_GAB_OFG_ORIG, DS_VT_GAB_OFG_FIN, DS_VT_GAB_OCE_ORIG...\n",
            "\u001b[32mdbl\u001b[39m (94): NU_ANO, CO_IES, CO_CATEGAD, CO_ORGACAD, CO_GRUPO, CO_CURSO, CO_MOD...\n",
            "\n",
            "\u001b[36mℹ\u001b[39m Use `spec()` to retrieve the full column specification for this data.\n",
            "\u001b[36mℹ\u001b[39m Specify the column types or set `show_col_types = FALSE` to quiet this message.\n"
          ]
        }
      ]
    },
    {
      "cell_type": "code",
      "source": [
        "head(enade2017) #permite uma visão geral da base sem precisar visualizar a base toda"
      ],
      "metadata": {
        "id": "7DD_YOiY0yZT",
        "colab": {
          "base_uri": "https://localhost:8080/",
          "height": 306
        },
        "outputId": "4a84c52f-6be3-4d25-a0e7-b4ddfdc45c39"
      },
      "execution_count": null,
      "outputs": [
        {
          "output_type": "display_data",
          "data": {
            "text/html": [
              "<table class=\"dataframe\">\n",
              "<caption>A tibble: 6 × 150</caption>\n",
              "<thead>\n",
              "\t<tr><th scope=col>NU_ANO</th><th scope=col>CO_IES</th><th scope=col>CO_CATEGAD</th><th scope=col>CO_ORGACAD</th><th scope=col>CO_GRUPO</th><th scope=col>CO_CURSO</th><th scope=col>CO_MODALIDADE</th><th scope=col>CO_MUNIC_CURSO</th><th scope=col>CO_UF_CURSO</th><th scope=col>CO_REGIAO_CURSO</th><th scope=col>⋯</th><th scope=col>QE_I72</th><th scope=col>QE_I73</th><th scope=col>QE_I74</th><th scope=col>QE_I75</th><th scope=col>QE_I76</th><th scope=col>QE_I77</th><th scope=col>QE_I78</th><th scope=col>QE_I79</th><th scope=col>QE_I80</th><th scope=col>QE_I81</th></tr>\n",
              "\t<tr><th scope=col>&lt;dbl&gt;</th><th scope=col>&lt;dbl&gt;</th><th scope=col>&lt;dbl&gt;</th><th scope=col>&lt;dbl&gt;</th><th scope=col>&lt;dbl&gt;</th><th scope=col>&lt;dbl&gt;</th><th scope=col>&lt;dbl&gt;</th><th scope=col>&lt;dbl&gt;</th><th scope=col>&lt;dbl&gt;</th><th scope=col>&lt;dbl&gt;</th><th scope=col>⋯</th><th scope=col>&lt;chr&gt;</th><th scope=col>&lt;chr&gt;</th><th scope=col>&lt;chr&gt;</th><th scope=col>&lt;chr&gt;</th><th scope=col>&lt;chr&gt;</th><th scope=col>&lt;chr&gt;</th><th scope=col>&lt;chr&gt;</th><th scope=col>&lt;chr&gt;</th><th scope=col>&lt;chr&gt;</th><th scope=col>&lt;chr&gt;</th></tr>\n",
              "</thead>\n",
              "<tbody>\n",
              "\t<tr><td>2017</td><td>1</td><td>1</td><td>10028</td><td>5710</td><td>3</td><td>1</td><td>5103403</td><td>51</td><td>5</td><td>⋯</td><td>NA</td><td>NA</td><td>NA</td><td>NA</td><td>NA</td><td>NA</td><td>NA</td><td>NA</td><td>NA</td><td>NA</td></tr>\n",
              "\t<tr><td>2017</td><td>1</td><td>1</td><td>10028</td><td>5710</td><td>3</td><td>1</td><td>5103403</td><td>51</td><td>5</td><td>⋯</td><td>NA</td><td>NA</td><td>NA</td><td>NA</td><td>NA</td><td>NA</td><td>NA</td><td>NA</td><td>NA</td><td>NA</td></tr>\n",
              "\t<tr><td>2017</td><td>1</td><td>1</td><td>10028</td><td>5710</td><td>3</td><td>1</td><td>5103403</td><td>51</td><td>5</td><td>⋯</td><td>NA</td><td>NA</td><td>NA</td><td>NA</td><td>NA</td><td>NA</td><td>NA</td><td>NA</td><td>NA</td><td>NA</td></tr>\n",
              "\t<tr><td>2017</td><td>1</td><td>1</td><td>10028</td><td>5710</td><td>3</td><td>1</td><td>5103403</td><td>51</td><td>5</td><td>⋯</td><td>NA</td><td>NA</td><td>NA</td><td>NA</td><td>NA</td><td>NA</td><td>NA</td><td>NA</td><td>NA</td><td>NA</td></tr>\n",
              "\t<tr><td>2017</td><td>1</td><td>1</td><td>10028</td><td>5710</td><td>3</td><td>1</td><td>5103403</td><td>51</td><td>5</td><td>⋯</td><td>NA</td><td>NA</td><td>NA</td><td>NA</td><td>NA</td><td>NA</td><td>NA</td><td>NA</td><td>NA</td><td>NA</td></tr>\n",
              "\t<tr><td>2017</td><td>1</td><td>1</td><td>10028</td><td>5710</td><td>3</td><td>1</td><td>5103403</td><td>51</td><td>5</td><td>⋯</td><td>NA</td><td>NA</td><td>NA</td><td>NA</td><td>NA</td><td>NA</td><td>NA</td><td>NA</td><td>NA</td><td>NA</td></tr>\n",
              "</tbody>\n",
              "</table>\n"
            ],
            "text/markdown": "\nA tibble: 6 × 150\n\n| NU_ANO &lt;dbl&gt; | CO_IES &lt;dbl&gt; | CO_CATEGAD &lt;dbl&gt; | CO_ORGACAD &lt;dbl&gt; | CO_GRUPO &lt;dbl&gt; | CO_CURSO &lt;dbl&gt; | CO_MODALIDADE &lt;dbl&gt; | CO_MUNIC_CURSO &lt;dbl&gt; | CO_UF_CURSO &lt;dbl&gt; | CO_REGIAO_CURSO &lt;dbl&gt; | ⋯ ⋯ | QE_I72 &lt;chr&gt; | QE_I73 &lt;chr&gt; | QE_I74 &lt;chr&gt; | QE_I75 &lt;chr&gt; | QE_I76 &lt;chr&gt; | QE_I77 &lt;chr&gt; | QE_I78 &lt;chr&gt; | QE_I79 &lt;chr&gt; | QE_I80 &lt;chr&gt; | QE_I81 &lt;chr&gt; |\n|---|---|---|---|---|---|---|---|---|---|---|---|---|---|---|---|---|---|---|---|---|\n| 2017 | 1 | 1 | 10028 | 5710 | 3 | 1 | 5103403 | 51 | 5 | ⋯ | NA | NA | NA | NA | NA | NA | NA | NA | NA | NA |\n| 2017 | 1 | 1 | 10028 | 5710 | 3 | 1 | 5103403 | 51 | 5 | ⋯ | NA | NA | NA | NA | NA | NA | NA | NA | NA | NA |\n| 2017 | 1 | 1 | 10028 | 5710 | 3 | 1 | 5103403 | 51 | 5 | ⋯ | NA | NA | NA | NA | NA | NA | NA | NA | NA | NA |\n| 2017 | 1 | 1 | 10028 | 5710 | 3 | 1 | 5103403 | 51 | 5 | ⋯ | NA | NA | NA | NA | NA | NA | NA | NA | NA | NA |\n| 2017 | 1 | 1 | 10028 | 5710 | 3 | 1 | 5103403 | 51 | 5 | ⋯ | NA | NA | NA | NA | NA | NA | NA | NA | NA | NA |\n| 2017 | 1 | 1 | 10028 | 5710 | 3 | 1 | 5103403 | 51 | 5 | ⋯ | NA | NA | NA | NA | NA | NA | NA | NA | NA | NA |\n\n",
            "text/latex": "A tibble: 6 × 150\n\\begin{tabular}{lllllllllllllllllllll}\n NU\\_ANO & CO\\_IES & CO\\_CATEGAD & CO\\_ORGACAD & CO\\_GRUPO & CO\\_CURSO & CO\\_MODALIDADE & CO\\_MUNIC\\_CURSO & CO\\_UF\\_CURSO & CO\\_REGIAO\\_CURSO & ⋯ & QE\\_I72 & QE\\_I73 & QE\\_I74 & QE\\_I75 & QE\\_I76 & QE\\_I77 & QE\\_I78 & QE\\_I79 & QE\\_I80 & QE\\_I81\\\\\n <dbl> & <dbl> & <dbl> & <dbl> & <dbl> & <dbl> & <dbl> & <dbl> & <dbl> & <dbl> & ⋯ & <chr> & <chr> & <chr> & <chr> & <chr> & <chr> & <chr> & <chr> & <chr> & <chr>\\\\\n\\hline\n\t 2017 & 1 & 1 & 10028 & 5710 & 3 & 1 & 5103403 & 51 & 5 & ⋯ & NA & NA & NA & NA & NA & NA & NA & NA & NA & NA\\\\\n\t 2017 & 1 & 1 & 10028 & 5710 & 3 & 1 & 5103403 & 51 & 5 & ⋯ & NA & NA & NA & NA & NA & NA & NA & NA & NA & NA\\\\\n\t 2017 & 1 & 1 & 10028 & 5710 & 3 & 1 & 5103403 & 51 & 5 & ⋯ & NA & NA & NA & NA & NA & NA & NA & NA & NA & NA\\\\\n\t 2017 & 1 & 1 & 10028 & 5710 & 3 & 1 & 5103403 & 51 & 5 & ⋯ & NA & NA & NA & NA & NA & NA & NA & NA & NA & NA\\\\\n\t 2017 & 1 & 1 & 10028 & 5710 & 3 & 1 & 5103403 & 51 & 5 & ⋯ & NA & NA & NA & NA & NA & NA & NA & NA & NA & NA\\\\\n\t 2017 & 1 & 1 & 10028 & 5710 & 3 & 1 & 5103403 & 51 & 5 & ⋯ & NA & NA & NA & NA & NA & NA & NA & NA & NA & NA\\\\\n\\end{tabular}\n",
            "text/plain": [
              "  NU_ANO CO_IES CO_CATEGAD CO_ORGACAD CO_GRUPO CO_CURSO CO_MODALIDADE\n",
              "1 2017   1      1          10028      5710     3        1            \n",
              "2 2017   1      1          10028      5710     3        1            \n",
              "3 2017   1      1          10028      5710     3        1            \n",
              "4 2017   1      1          10028      5710     3        1            \n",
              "5 2017   1      1          10028      5710     3        1            \n",
              "6 2017   1      1          10028      5710     3        1            \n",
              "  CO_MUNIC_CURSO CO_UF_CURSO CO_REGIAO_CURSO ⋯ QE_I72 QE_I73 QE_I74 QE_I75\n",
              "1 5103403        51          5               ⋯ NA     NA     NA     NA    \n",
              "2 5103403        51          5               ⋯ NA     NA     NA     NA    \n",
              "3 5103403        51          5               ⋯ NA     NA     NA     NA    \n",
              "4 5103403        51          5               ⋯ NA     NA     NA     NA    \n",
              "5 5103403        51          5               ⋯ NA     NA     NA     NA    \n",
              "6 5103403        51          5               ⋯ NA     NA     NA     NA    \n",
              "  QE_I76 QE_I77 QE_I78 QE_I79 QE_I80 QE_I81\n",
              "1 NA     NA     NA     NA     NA     NA    \n",
              "2 NA     NA     NA     NA     NA     NA    \n",
              "3 NA     NA     NA     NA     NA     NA    \n",
              "4 NA     NA     NA     NA     NA     NA    \n",
              "5 NA     NA     NA     NA     NA     NA    \n",
              "6 NA     NA     NA     NA     NA     NA    "
            ]
          },
          "metadata": {}
        }
      ]
    },
    {
      "cell_type": "markdown",
      "source": [
        "###B) Selecionando as variáveis indicadas <br>\n",
        "*adicionamos algumas variáveis que consideramos interessantes para as análises"
      ],
      "metadata": {
        "id": "JhMS7erQAZSA"
      }
    },
    {
      "cell_type": "code",
      "source": [
        "microdados_enade_filtrados= enade2017 %>% dplyr::select(CO_GRUPO,\n",
        "                                                       TP_SEXO,\n",
        "                                                       CO_TURNO_GRADUACAO,\n",
        "                                                       CO_REGIAO_CURSO,\n",
        "                                                       QE_I02,\n",
        "                                                       NT_OBJ_FG,\n",
        "                                                       QE_I08,\n",
        "                                                       QE_I23,\n",
        "                                                       NT_OBJ_CE,\n",
        "                                                       NT_GER\n",
        ")\n",
        "head(microdados_enade_filtrados)"
      ],
      "metadata": {
        "id": "2F-R0-WqUBWX",
        "colab": {
          "base_uri": "https://localhost:8080/",
          "height": 286
        },
        "outputId": "413e98d1-f801-4640-a6d2-0eb1fbc93d73"
      },
      "execution_count": null,
      "outputs": [
        {
          "output_type": "display_data",
          "data": {
            "text/html": [
              "<table class=\"dataframe\">\n",
              "<caption>A tibble: 6 × 10</caption>\n",
              "<thead>\n",
              "\t<tr><th scope=col>CO_GRUPO</th><th scope=col>TP_SEXO</th><th scope=col>CO_TURNO_GRADUACAO</th><th scope=col>CO_REGIAO_CURSO</th><th scope=col>QE_I02</th><th scope=col>NT_OBJ_FG</th><th scope=col>QE_I08</th><th scope=col>QE_I23</th><th scope=col>NT_OBJ_CE</th><th scope=col>NT_GER</th></tr>\n",
              "\t<tr><th scope=col>&lt;dbl&gt;</th><th scope=col>&lt;chr&gt;</th><th scope=col>&lt;dbl&gt;</th><th scope=col>&lt;dbl&gt;</th><th scope=col>&lt;chr&gt;</th><th scope=col>&lt;dbl&gt;</th><th scope=col>&lt;chr&gt;</th><th scope=col>&lt;chr&gt;</th><th scope=col>&lt;dbl&gt;</th><th scope=col>&lt;dbl&gt;</th></tr>\n",
              "</thead>\n",
              "<tbody>\n",
              "\t<tr><td>5710</td><td>F</td><td>3</td><td>5</td><td>A</td><td>87.5</td><td>B</td><td>D</td><td>52.6</td><td>52.6</td></tr>\n",
              "\t<tr><td>5710</td><td>F</td><td>3</td><td>5</td><td>D</td><td>87.5</td><td>B</td><td>C</td><td>63.2</td><td>63.1</td></tr>\n",
              "\t<tr><td>5710</td><td>M</td><td>3</td><td>5</td><td>D</td><td>87.5</td><td>F</td><td>B</td><td>26.3</td><td>33.7</td></tr>\n",
              "\t<tr><td>5710</td><td>M</td><td>3</td><td>5</td><td>A</td><td>75.0</td><td>B</td><td>C</td><td>57.9</td><td>58.1</td></tr>\n",
              "\t<tr><td>5710</td><td>M</td><td>3</td><td>5</td><td>A</td><td>75.0</td><td>F</td><td>B</td><td>36.8</td><td>46.3</td></tr>\n",
              "\t<tr><td>5710</td><td>M</td><td>3</td><td>5</td><td>F</td><td>87.5</td><td>C</td><td>B</td><td>63.2</td><td>64.2</td></tr>\n",
              "</tbody>\n",
              "</table>\n"
            ],
            "text/markdown": "\nA tibble: 6 × 10\n\n| CO_GRUPO &lt;dbl&gt; | TP_SEXO &lt;chr&gt; | CO_TURNO_GRADUACAO &lt;dbl&gt; | CO_REGIAO_CURSO &lt;dbl&gt; | QE_I02 &lt;chr&gt; | NT_OBJ_FG &lt;dbl&gt; | QE_I08 &lt;chr&gt; | QE_I23 &lt;chr&gt; | NT_OBJ_CE &lt;dbl&gt; | NT_GER &lt;dbl&gt; |\n|---|---|---|---|---|---|---|---|---|---|\n| 5710 | F | 3 | 5 | A | 87.5 | B | D | 52.6 | 52.6 |\n| 5710 | F | 3 | 5 | D | 87.5 | B | C | 63.2 | 63.1 |\n| 5710 | M | 3 | 5 | D | 87.5 | F | B | 26.3 | 33.7 |\n| 5710 | M | 3 | 5 | A | 75.0 | B | C | 57.9 | 58.1 |\n| 5710 | M | 3 | 5 | A | 75.0 | F | B | 36.8 | 46.3 |\n| 5710 | M | 3 | 5 | F | 87.5 | C | B | 63.2 | 64.2 |\n\n",
            "text/latex": "A tibble: 6 × 10\n\\begin{tabular}{llllllllll}\n CO\\_GRUPO & TP\\_SEXO & CO\\_TURNO\\_GRADUACAO & CO\\_REGIAO\\_CURSO & QE\\_I02 & NT\\_OBJ\\_FG & QE\\_I08 & QE\\_I23 & NT\\_OBJ\\_CE & NT\\_GER\\\\\n <dbl> & <chr> & <dbl> & <dbl> & <chr> & <dbl> & <chr> & <chr> & <dbl> & <dbl>\\\\\n\\hline\n\t 5710 & F & 3 & 5 & A & 87.5 & B & D & 52.6 & 52.6\\\\\n\t 5710 & F & 3 & 5 & D & 87.5 & B & C & 63.2 & 63.1\\\\\n\t 5710 & M & 3 & 5 & D & 87.5 & F & B & 26.3 & 33.7\\\\\n\t 5710 & M & 3 & 5 & A & 75.0 & B & C & 57.9 & 58.1\\\\\n\t 5710 & M & 3 & 5 & A & 75.0 & F & B & 36.8 & 46.3\\\\\n\t 5710 & M & 3 & 5 & F & 87.5 & C & B & 63.2 & 64.2\\\\\n\\end{tabular}\n",
            "text/plain": [
              "  CO_GRUPO TP_SEXO CO_TURNO_GRADUACAO CO_REGIAO_CURSO QE_I02 NT_OBJ_FG QE_I08\n",
              "1 5710     F       3                  5               A      87.5      B     \n",
              "2 5710     F       3                  5               D      87.5      B     \n",
              "3 5710     M       3                  5               D      87.5      F     \n",
              "4 5710     M       3                  5               A      75.0      B     \n",
              "5 5710     M       3                  5               A      75.0      F     \n",
              "6 5710     M       3                  5               F      87.5      C     \n",
              "  QE_I23 NT_OBJ_CE NT_GER\n",
              "1 D      52.6      52.6  \n",
              "2 C      63.2      63.1  \n",
              "3 B      26.3      33.7  \n",
              "4 C      57.9      58.1  \n",
              "5 B      36.8      46.3  \n",
              "6 B      63.2      64.2  "
            ]
          },
          "metadata": {}
        }
      ]
    },
    {
      "cell_type": "markdown",
      "source": [
        "**Classificando as variáveis:**<br>\n",
        "\n",
        "\n",
        "**1.   Variáveis indicadas na questão:**\n",
        "*  **NT_OBJ_FG**: Nota bruta na parte objetiva da formação geral ->  **Variável Quantitativa Contínua** <br>\n",
        "* **CO_GRUPO:** Código da área de enquadramento do curso no Enade -> **Variável Qualitativa Nominal** <br>\n",
        "*  **CO_REGIAO_CURSO**: Código da região de funcionamento do curso->  **Variável Qualitativa Nominal** <br>\n",
        "*  **QE_I02**: Questionário de qual cor/raça -> **Variável Qualitativa Nominal** <br>\n",
        "* **CO_TURNO_GRADUACAO**: Código do turno de graduação -> **Variável Qualitativa Ordinal** <br>\n",
        "\n",
        "**2.   Outras variáveis utilizadas:**\n",
        "* **TP_SEXO:** Tipo de Sexo -> **Variável Qualitativa Nominal** <br>\n",
        "*  **QE_I08**: Renda familiar ->  **Variável Qualitativa Ordinal** <br>\n",
        "*  **QE_I23**: Horas dedicadas aos estudos -> **Variável Qualitativa Ordinal** <br>\n",
        "*  **NT_OBJ_CE**: Nota bruta na parte objetiva da formação geral -> **Variável Quantitativa Contínua** <br>\n",
        "*  **NT_GER**: Nota bruta da prova -> **Variável Quantitativa Contínua** <br>"
      ],
      "metadata": {
        "id": "ploqD3wDhElj"
      }
    },
    {
      "cell_type": "markdown",
      "source": [
        "### C) Filtrando pelo Curso escolhido\n",
        "####Foi escolhido aleatoriamente o curso 6208\n",
        "CO_GRUPO==6208  [6208 = Engenharia de Produção]\n"
      ],
      "metadata": {
        "id": "Bv7TYMT_q-_C"
      }
    },
    {
      "cell_type": "code",
      "source": [
        "microdados_ti = microdados_enade_filtrados %>% filter(CO_GRUPO==6208)\n",
        "head(microdados_ti)"
      ],
      "metadata": {
        "id": "R2TTIFbKaRBc",
        "colab": {
          "base_uri": "https://localhost:8080/",
          "height": 286
        },
        "outputId": "e8c73b2e-613e-4769-aab9-a9ba6c6ce756"
      },
      "execution_count": null,
      "outputs": [
        {
          "output_type": "display_data",
          "data": {
            "text/html": [
              "<table class=\"dataframe\">\n",
              "<caption>A tibble: 6 × 10</caption>\n",
              "<thead>\n",
              "\t<tr><th scope=col>CO_GRUPO</th><th scope=col>TP_SEXO</th><th scope=col>CO_TURNO_GRADUACAO</th><th scope=col>CO_REGIAO_CURSO</th><th scope=col>QE_I02</th><th scope=col>NT_OBJ_FG</th><th scope=col>QE_I08</th><th scope=col>QE_I23</th><th scope=col>NT_OBJ_CE</th><th scope=col>NT_GER</th></tr>\n",
              "\t<tr><th scope=col>&lt;dbl&gt;</th><th scope=col>&lt;chr&gt;</th><th scope=col>&lt;dbl&gt;</th><th scope=col>&lt;dbl&gt;</th><th scope=col>&lt;chr&gt;</th><th scope=col>&lt;dbl&gt;</th><th scope=col>&lt;chr&gt;</th><th scope=col>&lt;chr&gt;</th><th scope=col>&lt;dbl&gt;</th><th scope=col>&lt;dbl&gt;</th></tr>\n",
              "</thead>\n",
              "<tbody>\n",
              "\t<tr><td>6208</td><td>M</td><td>3</td><td>3</td><td>A</td><td>62.5</td><td>E</td><td>E</td><td>59.1</td><td>55.6</td></tr>\n",
              "\t<tr><td>6208</td><td>F</td><td>3</td><td>3</td><td>A</td><td>87.5</td><td>F</td><td>E</td><td>81.8</td><td>72.6</td></tr>\n",
              "\t<tr><td>6208</td><td>F</td><td>3</td><td>3</td><td>C</td><td>87.5</td><td>E</td><td>B</td><td>40.9</td><td>50.3</td></tr>\n",
              "\t<tr><td>6208</td><td>F</td><td>3</td><td>3</td><td>C</td><td>87.5</td><td>F</td><td>B</td><td>36.4</td><td>45.2</td></tr>\n",
              "\t<tr><td>6208</td><td>M</td><td>3</td><td>3</td><td>C</td><td>75.0</td><td>F</td><td>C</td><td>31.8</td><td>40.9</td></tr>\n",
              "\t<tr><td>6208</td><td>F</td><td>3</td><td>3</td><td>A</td><td>75.0</td><td>C</td><td>C</td><td>68.2</td><td>62.5</td></tr>\n",
              "</tbody>\n",
              "</table>\n"
            ],
            "text/markdown": "\nA tibble: 6 × 10\n\n| CO_GRUPO &lt;dbl&gt; | TP_SEXO &lt;chr&gt; | CO_TURNO_GRADUACAO &lt;dbl&gt; | CO_REGIAO_CURSO &lt;dbl&gt; | QE_I02 &lt;chr&gt; | NT_OBJ_FG &lt;dbl&gt; | QE_I08 &lt;chr&gt; | QE_I23 &lt;chr&gt; | NT_OBJ_CE &lt;dbl&gt; | NT_GER &lt;dbl&gt; |\n|---|---|---|---|---|---|---|---|---|---|\n| 6208 | M | 3 | 3 | A | 62.5 | E | E | 59.1 | 55.6 |\n| 6208 | F | 3 | 3 | A | 87.5 | F | E | 81.8 | 72.6 |\n| 6208 | F | 3 | 3 | C | 87.5 | E | B | 40.9 | 50.3 |\n| 6208 | F | 3 | 3 | C | 87.5 | F | B | 36.4 | 45.2 |\n| 6208 | M | 3 | 3 | C | 75.0 | F | C | 31.8 | 40.9 |\n| 6208 | F | 3 | 3 | A | 75.0 | C | C | 68.2 | 62.5 |\n\n",
            "text/latex": "A tibble: 6 × 10\n\\begin{tabular}{llllllllll}\n CO\\_GRUPO & TP\\_SEXO & CO\\_TURNO\\_GRADUACAO & CO\\_REGIAO\\_CURSO & QE\\_I02 & NT\\_OBJ\\_FG & QE\\_I08 & QE\\_I23 & NT\\_OBJ\\_CE & NT\\_GER\\\\\n <dbl> & <chr> & <dbl> & <dbl> & <chr> & <dbl> & <chr> & <chr> & <dbl> & <dbl>\\\\\n\\hline\n\t 6208 & M & 3 & 3 & A & 62.5 & E & E & 59.1 & 55.6\\\\\n\t 6208 & F & 3 & 3 & A & 87.5 & F & E & 81.8 & 72.6\\\\\n\t 6208 & F & 3 & 3 & C & 87.5 & E & B & 40.9 & 50.3\\\\\n\t 6208 & F & 3 & 3 & C & 87.5 & F & B & 36.4 & 45.2\\\\\n\t 6208 & M & 3 & 3 & C & 75.0 & F & C & 31.8 & 40.9\\\\\n\t 6208 & F & 3 & 3 & A & 75.0 & C & C & 68.2 & 62.5\\\\\n\\end{tabular}\n",
            "text/plain": [
              "  CO_GRUPO TP_SEXO CO_TURNO_GRADUACAO CO_REGIAO_CURSO QE_I02 NT_OBJ_FG QE_I08\n",
              "1 6208     M       3                  3               A      62.5      E     \n",
              "2 6208     F       3                  3               A      87.5      F     \n",
              "3 6208     F       3                  3               C      87.5      E     \n",
              "4 6208     F       3                  3               C      87.5      F     \n",
              "5 6208     M       3                  3               C      75.0      F     \n",
              "6 6208     F       3                  3               A      75.0      C     \n",
              "  QE_I23 NT_OBJ_CE NT_GER\n",
              "1 E      59.1      55.6  \n",
              "2 E      81.8      72.6  \n",
              "3 B      40.9      50.3  \n",
              "4 B      36.4      45.2  \n",
              "5 C      31.8      40.9  \n",
              "6 C      68.2      62.5  "
            ]
          },
          "metadata": {}
        }
      ]
    },
    {
      "cell_type": "markdown",
      "source": [
        "### D)Transformação de variáveis, colocando os rótulos\n",
        " usando o Mutate (criando coluna nao DataFrame)*(usando case - when)"
      ],
      "metadata": {
        "id": "uZp-ogCoG98y"
      }
    },
    {
      "cell_type": "code",
      "source": [
        "#Raça\n",
        "microdados_ti = microdados_ti %>% mutate(raca = case_when( QE_I02 == \"A\" ~ \"Branca\",\n",
        "                                                                    QE_I02 == \"B\" ~ \"Preta\",\n",
        "                                                                    QE_I02 == \"C\" ~ \"Amarela\",\n",
        "                                                                    QE_I02 == \"D\" ~ \"Parda\",\n",
        "                                                                    QE_I02 == \"E\" ~ \"Indígena\",\n",
        "\t\t\t\t\t\t\t\t\t\t\t\t\t\t                                  \t\t\tQE_I02 == \"E\" ~ \"Não quero declarar\"\n",
        "\n",
        "))\n",
        "\n",
        "#Região\n",
        "microdados_ti = microdados_ti %>% mutate(regiao = case_when( CO_REGIAO_CURSO == 1 ~ \"Norte\",\n",
        "                                                             CO_REGIAO_CURSO == 2 ~ \"Nordeste\",\n",
        "                                                             CO_REGIAO_CURSO == 3 ~ \"Sudeste\",\n",
        "                                                             CO_REGIAO_CURSO == 4 ~ \"Sul\",\n",
        "                                                             CO_REGIAO_CURSO == 5 ~ \"Centro-Oeste\"\n",
        "))\n",
        "\n",
        "#sexo\n",
        "microdados_ti = microdados_ti %>% mutate(sexo = case_when( TP_SEXO == \"M\" ~ \"Masculino\",\n",
        "                                                           TP_SEXO == \"F\" ~ \"Feminino\"\n",
        "))\n",
        "\n",
        "\n",
        "#Horas de estudo\n",
        "microdados_ti = microdados_ti %>% mutate(hestudos = case_when( QE_I23 == \"A\" ~ \"Nenhuma, apenas assisto as aulas\",\n",
        "                                                               QE_I23 == \"B\" ~ \"De uma a três\",\n",
        "                                                               QE_I23 == \"C\" ~ \"De quatro a sete\",\n",
        "                                                               QE_I23 == \"D\" ~ \"De oito a doze\",\n",
        "                                                               QE_I23 == \"E\" ~ \"Mais de doze\"\n",
        "))\n",
        "\n",
        "#Renda familiar\n",
        "microdados_ti = microdados_ti %>% mutate(hsalario = case_when(   QE_I08 == \"A\" ~ \"Até 1,5 salário mínimo (até R$ 1.405,50)\",\n",
        "                                                                 QE_I08 == \"B\" ~ \"De 1,5 a 3 salários mínimos (R$ 1.405,51 a R$ 2.811,00)\",\n",
        "                                                                 QE_I08 == \"C\" ~ \"De 3 a 4,5 salários mínimos (R$ 2.811,01 a R$ 4.216,50)\",\n",
        "                                                                 QE_I08 == \"D\" ~ \"De 4,5 a 6 salários mínimos (R$ 4.216,51 a R$ 5.622,00)\",\n",
        "                                                                 QE_I08 == \"E\" ~ \"De 6 a 10 salários mínimos (R$ 5.622,01 a R$ 9.370,00)\",\n",
        "                                                                 QE_I08 == \"F\" ~ \"De 10 a 30 salários mínimos (R$ 9.370,01 a R$ 28.110,00)\",\n",
        "                                                                 QE_I08 == \"G\" ~ \"Acima de 30 salários mínimos (mais de R$ 28.110,00)\"\n",
        "))\n",
        "\n",
        "#Turno\n",
        "microdados_ti = microdados_ti %>% mutate(hturno = case_when(  CO_TURNO_GRADUACAO == 1 ~ \"Matutino\",\n",
        "                                                                CO_TURNO_GRADUACAO == 2 ~ \"Vespertino\",\n",
        "                         \t\t\t\t\t\t\t\t\t                    \tCO_TURNO_GRADUACAO == 3 ~ \"Noturno\",\n",
        "\t\t\t\t\t\t\t\t\t\t\t\t\t\t\t                                  CO_TURNO_GRADUACAO == 4 ~ \"Integral\",\n",
        "\t\t\t\t\t\t\t\t\t\t\t\t\t\t                                \t\tCO_TURNO_GRADUACAO == 5 ~ \"Não realizei estágio curricular obrigatório\"\n",
        "))"
      ],
      "metadata": {
        "id": "MB9V6Pneg6bb"
      },
      "execution_count": null,
      "outputs": []
    },
    {
      "cell_type": "markdown",
      "source": [
        "### E) Estatísticas Descritivas do banco de dados"
      ],
      "metadata": {
        "id": "DmtEIdPe701m"
      }
    },
    {
      "cell_type": "markdown",
      "source": [
        "Estatísticas Descritivas\n",
        "\n"
      ],
      "metadata": {
        "id": "UkaoRPJaq_wv"
      }
    },
    {
      "cell_type": "markdown",
      "source": [
        "no rmarkdown incluí um código que mostra tbm média, mediana mas também mostra se tem NA, desvio padrão, e um mini histograma com a distribuição. O pacote não roda aqui no collab por alguma limitação"
      ],
      "metadata": {
        "id": "-4g0BsUL5uwx"
      }
    },
    {
      "cell_type": "code",
      "source": [
        "summary(microdados_ti) #mostra as estatísticas básicas (média, mediana, quartis, mínimos e máximos)"
      ],
      "metadata": {
        "colab": {
          "base_uri": "https://localhost:8080/",
          "height": 601
        },
        "id": "NrK6EAOtIQex",
        "outputId": "b255773e-68f4-4395-9220-55a87a088b7c"
      },
      "execution_count": null,
      "outputs": [
        {
          "output_type": "display_data",
          "data": {
            "text/plain": [
              "    CO_GRUPO      TP_SEXO          CO_TURNO_GRADUACAO CO_REGIAO_CURSO\n",
              " Min.   :6208   Length:25714       Min.   :1.000      Min.   :1.000  \n",
              " 1st Qu.:6208   Class :character   1st Qu.:3.000      1st Qu.:3.000  \n",
              " Median :6208   Mode  :character   Median :4.000      Median :3.000  \n",
              " Mean   :6208                      Mean   :3.574      Mean   :3.032  \n",
              " 3rd Qu.:6208                      3rd Qu.:4.000      3rd Qu.:3.000  \n",
              " Max.   :6208                      Max.   :4.000      Max.   :5.000  \n",
              "                                   NA's   :162                       \n",
              "    QE_I02            NT_OBJ_FG        QE_I08             QE_I23         \n",
              " Length:25714       Min.   :  0.0   Length:25714       Length:25714      \n",
              " Class :character   1st Qu.: 37.5   Class :character   Class :character  \n",
              " Mode  :character   Median : 50.0   Mode  :character   Mode  :character  \n",
              "                    Mean   : 53.4                                        \n",
              "                    3rd Qu.: 62.5                                        \n",
              "                    Max.   :100.0                                        \n",
              "                    NA's   :3262                                         \n",
              "   NT_OBJ_CE          NT_GER          raca              regiao         \n",
              " Min.   :  0.00   Min.   : 0.00   Length:25714       Length:25714      \n",
              " 1st Qu.: 31.80   1st Qu.:32.70   Class :character   Class :character  \n",
              " Median : 40.90   Median :40.90   Mode  :character   Mode  :character  \n",
              " Mean   : 41.68   Mean   :41.69                                        \n",
              " 3rd Qu.: 50.00   3rd Qu.:50.00                                        \n",
              " Max.   :100.00   Max.   :88.50                                        \n",
              " NA's   :3262     NA's   :3262                                         \n",
              "     sexo             hestudos           hsalario            hturno         \n",
              " Length:25714       Length:25714       Length:25714       Length:25714      \n",
              " Class :character   Class :character   Class :character   Class :character  \n",
              " Mode  :character   Mode  :character   Mode  :character   Mode  :character  \n",
              "                                                                            \n",
              "                                                                            \n",
              "                                                                            \n",
              "                                                                            "
            ]
          },
          "metadata": {}
        }
      ]
    },
    {
      "cell_type": "code",
      "source": [
        "#Removendo  Na\n",
        "microdados_ti_sem_NA = microdados_ti %>% na.omit()\n",
        "\n",
        "#Conferindo se NA's foram removidos\n",
        "resumo_teste_variaveis= microdados_ti_sem_NA %>%\n",
        "  select(everything()) %>%\n",
        "  summarise_all(list(~sum(is.na(.))))\n",
        " resumo_teste_variaveis"
      ],
      "metadata": {
        "id": "nJ2V9oy_pqTg",
        "colab": {
          "base_uri": "https://localhost:8080/",
          "height": 129
        },
        "outputId": "fe21d1ff-5d62-4f10-8e99-7b291534ecdf"
      },
      "execution_count": null,
      "outputs": [
        {
          "output_type": "display_data",
          "data": {
            "text/html": [
              "<table class=\"dataframe\">\n",
              "<caption>A tibble: 1 × 16</caption>\n",
              "<thead>\n",
              "\t<tr><th scope=col>CO_GRUPO</th><th scope=col>TP_SEXO</th><th scope=col>CO_TURNO_GRADUACAO</th><th scope=col>CO_REGIAO_CURSO</th><th scope=col>QE_I02</th><th scope=col>NT_OBJ_FG</th><th scope=col>QE_I08</th><th scope=col>QE_I23</th><th scope=col>NT_OBJ_CE</th><th scope=col>NT_GER</th><th scope=col>raca</th><th scope=col>regiao</th><th scope=col>sexo</th><th scope=col>hestudos</th><th scope=col>hsalario</th><th scope=col>hturno</th></tr>\n",
              "\t<tr><th scope=col>&lt;int&gt;</th><th scope=col>&lt;int&gt;</th><th scope=col>&lt;int&gt;</th><th scope=col>&lt;int&gt;</th><th scope=col>&lt;int&gt;</th><th scope=col>&lt;int&gt;</th><th scope=col>&lt;int&gt;</th><th scope=col>&lt;int&gt;</th><th scope=col>&lt;int&gt;</th><th scope=col>&lt;int&gt;</th><th scope=col>&lt;int&gt;</th><th scope=col>&lt;int&gt;</th><th scope=col>&lt;int&gt;</th><th scope=col>&lt;int&gt;</th><th scope=col>&lt;int&gt;</th><th scope=col>&lt;int&gt;</th></tr>\n",
              "</thead>\n",
              "<tbody>\n",
              "\t<tr><td>0</td><td>0</td><td>0</td><td>0</td><td>0</td><td>0</td><td>0</td><td>0</td><td>0</td><td>0</td><td>0</td><td>0</td><td>0</td><td>0</td><td>0</td><td>0</td></tr>\n",
              "</tbody>\n",
              "</table>\n"
            ],
            "text/markdown": "\nA tibble: 1 × 16\n\n| CO_GRUPO &lt;int&gt; | TP_SEXO &lt;int&gt; | CO_TURNO_GRADUACAO &lt;int&gt; | CO_REGIAO_CURSO &lt;int&gt; | QE_I02 &lt;int&gt; | NT_OBJ_FG &lt;int&gt; | QE_I08 &lt;int&gt; | QE_I23 &lt;int&gt; | NT_OBJ_CE &lt;int&gt; | NT_GER &lt;int&gt; | raca &lt;int&gt; | regiao &lt;int&gt; | sexo &lt;int&gt; | hestudos &lt;int&gt; | hsalario &lt;int&gt; | hturno &lt;int&gt; |\n|---|---|---|---|---|---|---|---|---|---|---|---|---|---|---|---|\n| 0 | 0 | 0 | 0 | 0 | 0 | 0 | 0 | 0 | 0 | 0 | 0 | 0 | 0 | 0 | 0 |\n\n",
            "text/latex": "A tibble: 1 × 16\n\\begin{tabular}{llllllllllllllll}\n CO\\_GRUPO & TP\\_SEXO & CO\\_TURNO\\_GRADUACAO & CO\\_REGIAO\\_CURSO & QE\\_I02 & NT\\_OBJ\\_FG & QE\\_I08 & QE\\_I23 & NT\\_OBJ\\_CE & NT\\_GER & raca & regiao & sexo & hestudos & hsalario & hturno\\\\\n <int> & <int> & <int> & <int> & <int> & <int> & <int> & <int> & <int> & <int> & <int> & <int> & <int> & <int> & <int> & <int>\\\\\n\\hline\n\t 0 & 0 & 0 & 0 & 0 & 0 & 0 & 0 & 0 & 0 & 0 & 0 & 0 & 0 & 0 & 0\\\\\n\\end{tabular}\n",
            "text/plain": [
              "  CO_GRUPO TP_SEXO CO_TURNO_GRADUACAO CO_REGIAO_CURSO QE_I02 NT_OBJ_FG QE_I08\n",
              "1 0        0       0                  0               0      0         0     \n",
              "  QE_I23 NT_OBJ_CE NT_GER raca regiao sexo hestudos hsalario hturno\n",
              "1 0      0         0      0    0      0    0        0        0     "
            ]
          },
          "metadata": {}
        }
      ]
    },
    {
      "cell_type": "markdown",
      "source": [
        "### F) Análises do comportamento da nota"
      ],
      "metadata": {
        "id": "1cbDluVNR8yK"
      }
    },
    {
      "cell_type": "markdown",
      "source": [
        "Análise por Turno"
      ],
      "metadata": {
        "id": "ZHgWfd4IHSCs"
      }
    },
    {
      "cell_type": "code",
      "source": [
        "# Resumo estatístico com assimetria e curtose\n",
        " dados_nt_hturno <- microdados_ti_sem_NA %>%\n",
        "  select(NT_GER, hturno) %>%\n",
        "  group_by(hturno) %>%\n",
        "  summarise(\n",
        "    quantidade = n(),\n",
        "    media = mean(NT_GER),\n",
        "    mediana = median(NT_GER),\n",
        "    cv = sd(NT_GER) / media * 100,\n",
        "    amplitude_interquartil = IQR(NT_GER),\n",
        "    assimetria = skewness(NT_GER),\n",
        "    curtose = kurtosis(NT_GER)\n",
        "  ) %>%\n",
        "  arrange(desc(cv))\n",
        "\n",
        "print( dados_nt_hturno)\n",
        "\n",
        "# Histograma das notas gerais por turno do curso\n",
        "grafico_histograma_turno = ggplot(microdados_ti_sem_NA, aes(x = NT_GER, fill = hturno)) +\n",
        "  geom_histogram(binwidth = 2, color = \"black\", alpha = 0.7, position = \"identity\") +\n",
        "  ggtitle(\"Histograma da Nota Geral por Turno do Curso\") +\n",
        "  xlab(\"Nota Geral (NT_GER)\") +\n",
        "  ylab(\"Frequência Simples\") +\n",
        "  facet_grid(~hturno) +\n",
        "  theme_minimal(base_size = 13) +\n",
        "  scale_fill_brewer(palette = \"Set2\", name = \"Turno\")\n",
        "\n",
        "grafico_histograma_turno\n",
        "\n",
        "# Boxplot NT_GER por turno\n",
        "ggplot(microdados_ti_sem_NA, aes(x = hturno, y = NT_GER, fill = hturno)) +\n",
        "  geom_boxplot(outlier.color = \"black\", outlier.shape = 21, outlier.fill = \"white\") +\n",
        "  labs(title = \"Boxplot da Nota Geral (NT_GER) por Turno\",\n",
        "       x = \"Turno\",\n",
        "       y = \"Nota Geral\") +\n",
        "  theme_minimal() +\n",
        "  theme(legend.position = \"none\")"
      ],
      "metadata": {
        "colab": {
          "base_uri": "https://localhost:8080/"
        },
        "id": "iTPiZPq2H2cp",
        "outputId": "2e9ed9ba-2f3c-4833-c2c6-f0dd8d0eb33b"
      },
      "execution_count": null,
      "outputs": [
        {
          "output_type": "stream",
          "name": "stdout",
          "text": [
            "\u001b[90m# A tibble: 4 × 8\u001b[39m\n",
            "  hturno     quantidade media mediana    cv amplitude_interquartil assimetria\n",
            "  \u001b[3m\u001b[90m<chr>\u001b[39m\u001b[23m           \u001b[3m\u001b[90m<int>\u001b[39m\u001b[23m \u001b[3m\u001b[90m<dbl>\u001b[39m\u001b[23m   \u001b[3m\u001b[90m<dbl>\u001b[39m\u001b[23m \u001b[3m\u001b[90m<dbl>\u001b[39m\u001b[23m                  \u001b[3m\u001b[90m<dbl>\u001b[39m\u001b[23m      \u001b[3m\u001b[90m<dbl>\u001b[39m\u001b[23m\n",
            "\u001b[90m1\u001b[39m Matutino         \u001b[4m1\u001b[24m653  42.5    41.6  32.0                   19.2     0.239 \n",
            "\u001b[90m2\u001b[39m Integral        \u001b[4m1\u001b[24m\u001b[4m5\u001b[24m868  39.9    39.4  29.7                   15.9     0.278 \n",
            "\u001b[90m3\u001b[39m Vespertino        363  44.7    44.4  27.9                   18.3     0.187 \n",
            "\u001b[90m4\u001b[39m Noturno          \u001b[4m3\u001b[24m743  48.4    48.3  27.7                   18.8     0.017\u001b[4m6\u001b[24m\n",
            "\u001b[90m# ℹ 1 more variable: curtose <dbl>\u001b[39m\n"
          ]
        }
      ]
    },
    {
      "cell_type": "markdown",
      "source": [
        "Os dados indicam que os alunos do turno Noturno apresentam o melhor desempenho médio e a menor variabilidade nas notas, com distribuição quase simétrica. O turno Integral, embora mais numeroso, concentra as menores médias e maior assimetria. Matutino e Vespertino têm desempenhos intermediários, sendo o Matutino o mais disperso. Essas diferenças sugerem que fatores externos, como perfil dos estudantes ou estrutura dos cursos, podem influenciar o desempenho conforme o turno."
      ],
      "metadata": {
        "id": "U_7Hf1dAOb3U"
      }
    },
    {
      "cell_type": "markdown",
      "source": [
        "Análise por Região e Turno"
      ],
      "metadata": {
        "id": "XZwH3x47HXXu"
      }
    },
    {
      "cell_type": "code",
      "source": [
        "# Função para moda (caso necessário em análises futuras)\n",
        "Mode <- function(x) {\n",
        "  ux <- unique(x)\n",
        "  ux[which.max(tabulate(match(x, ux)))]\n",
        "}\n",
        "\n",
        "# Resumo estatístico com assimetria e curtose, agora por raca\n",
        "dados_hturno_regiao <- microdados_ti_sem_NA %>%\n",
        "  select(regiao, NT_GER, hturno) %>%\n",
        "  group_by(regiao, hturno) %>%\n",
        "  summarise(\n",
        "    quantidade = n(),\n",
        "    media = mean(NT_GER, na.rm = TRUE),\n",
        "    mediana = median(NT_GER, na.rm = TRUE),\n",
        "    cv = sd(NT_GER, na.rm = TRUE) / media * 100,\n",
        "    amplitude_interquartil = IQR(NT_GER, na.rm = TRUE),\n",
        "    assimetria = skewness(NT_GER, na.rm = TRUE),\n",
        "    curtose = kurtosis(NT_GER, na.rm = TRUE)\n",
        "  ) %>%\n",
        "  arrange(desc(cv))\n",
        "\n",
        "# Visualizar tabela (opcional)\n",
        "print(dados_hturno_regiao)\n",
        "\n",
        "\n",
        "# Gráfico 1: Boxplot NT_GER por sexo e região\n",
        "ggplot(microdados_ti_sem_NA, aes(x = hturno, y = NT_GER, fill = hturno)) +\n",
        "  geom_boxplot(outlier.color = \"black\", outlier.shape = 21, outlier.fill = \"white\") +\n",
        "  facet_wrap(~ regiao) +\n",
        "  labs(title = \"Boxplot da Nota Geral (NT_GER) por Turno e Região\",\n",
        "       x = \"Sexo\",\n",
        "       y = \"Nota Geral\") +\n",
        "  theme_minimal() +\n",
        "  theme(legend.position = \"none\")\n",
        "\n",
        "# Gráfico 2: Histograma com densidade\n",
        "ggplot(microdados_ti_sem_NA, aes(x = NT_GER, fill = hturno)) +\n",
        "  geom_histogram(aes(y = ..density..), bins = 30, alpha = 0.6, position = \"identity\") +\n",
        "  geom_density(alpha = 0.7, color = \"black\") +\n",
        "  facet_wrap(~ regiao) +\n",
        "  labs(title = \"Distribuição da Nota Geral (NT_GER) por Turno e Sexo\",\n",
        "       x = \"Nota Geral\",\n",
        "       y = \"Densidade\") +\n",
        "  theme_minimal()\n",
        "\n",
        "# Gráfico 3: Barras com assimetria e curtose por grupo\n",
        "# Transforma os dados para formato longo para gráfico de barras\n",
        "dados_longos <- dados_hturno_regiao %>%\n",
        "  select(regiao, hturno, assimetria, curtose) %>%\n",
        "  tidyr::pivot_longer(cols = c(\"assimetria\", \"curtose\"), names_to = \"medida\", values_to = \"valor\")\n",
        "\n",
        "ggplot(dados_longos, aes(x = interaction(regiao, hturno), y = valor, fill = medida)) +\n",
        "  geom_bar(stat = \"identity\", position = \"dodge\") +\n",
        "  labs(title = \"Assimetria e Curtose por Região e Turno\",\n",
        "       x = \"Região e Turno\",\n",
        "       y = \"Valor da Medida\",\n",
        "       fill = \"Medida\") +\n",
        "  theme_minimal() +\n",
        "  theme(axis.text.x = element_text(angle = 45, hjust = 1))\n"
      ],
      "metadata": {
        "colab": {
          "base_uri": "https://localhost:8080/",
          "height": 1000
        },
        "id": "MEU0TGlhF_qk",
        "outputId": "2e8cfe94-2afa-4683-82c3-cc8aad6d91d9"
      },
      "execution_count": null,
      "outputs": [
        {
          "output_type": "stream",
          "name": "stderr",
          "text": [
            "\u001b[1m\u001b[22m`summarise()` has grouped output by 'regiao'. You can override using the\n",
            "`.groups` argument.\n"
          ]
        },
        {
          "output_type": "stream",
          "name": "stdout",
          "text": [
            "\u001b[90m# A tibble: 20 × 9\u001b[39m\n",
            "\u001b[90m# Groups:   regiao [5]\u001b[39m\n",
            "   regiao       hturno     quantidade media mediana    cv amplitude_interquartil\n",
            "   \u001b[3m\u001b[90m<chr>\u001b[39m\u001b[23m        \u001b[3m\u001b[90m<chr>\u001b[39m\u001b[23m           \u001b[3m\u001b[90m<int>\u001b[39m\u001b[23m \u001b[3m\u001b[90m<dbl>\u001b[39m\u001b[23m   \u001b[3m\u001b[90m<dbl>\u001b[39m\u001b[23m \u001b[3m\u001b[90m<dbl>\u001b[39m\u001b[23m                  \u001b[3m\u001b[90m<dbl>\u001b[39m\u001b[23m\n",
            "\u001b[90m 1\u001b[39m Centro-Oeste Vespertino         11  35.1    34    47.0                   15.7\n",
            "\u001b[90m 2\u001b[39m Sudeste      Matutino         \u001b[4m1\u001b[24m155  42.9    42    33.3                   20.6\n",
            "\u001b[90m 3\u001b[39m Norte        Matutino           37  38.8    40.3  31.1                   21.3\n",
            "\u001b[90m 4\u001b[39m Centro-Oeste Integral          538  38.7    37.7  30.8                   16.3\n",
            "\u001b[90m 5\u001b[39m Norte        Integral          436  37.6    37.1  30.2                   15.2\n",
            "\u001b[90m 6\u001b[39m Nordeste     Noturno           524  45.6    45.4  30.2                   19.7\n",
            "\u001b[90m 7\u001b[39m Sudeste      Integral        \u001b[4m1\u001b[24m\u001b[4m0\u001b[24m831  39.8    39.2  29.9                   15.9\n",
            "\u001b[90m 8\u001b[39m Nordeste     Integral         \u001b[4m1\u001b[24m689  38.4    37.8  29.8                   15.3\n",
            "\u001b[90m 9\u001b[39m Sul          Matutino           46  42.7    41.2  28.8                   19.6\n",
            "\u001b[90m10\u001b[39m Nordeste     Matutino          368  41.4    40.8  28.7                   16  \n",
            "\u001b[90m11\u001b[39m Norte        Vespertino         31  34.8    34.7  28.3                   12.2\n",
            "\u001b[90m12\u001b[39m Centro-Oeste Noturno           264  45.7    45.7  28.0                   18.5\n",
            "\u001b[90m13\u001b[39m Sul          Vespertino         18  43.6    43.3  27.7                   16.1\n",
            "\u001b[90m14\u001b[39m Sul          Integral         \u001b[4m2\u001b[24m374  42.5    42.1  27.3                   15.7\n",
            "\u001b[90m15\u001b[39m Sudeste      Noturno          \u001b[4m2\u001b[24m233  49.3    49.2  27.2                   18.9\n",
            "\u001b[90m16\u001b[39m Sudeste      Vespertino        120  44.6    44.5  26.3                   16.9\n",
            "\u001b[90m17\u001b[39m Nordeste     Vespertino        183  47.1    47.7  25.7                   16.7\n",
            "\u001b[90m18\u001b[39m Sul          Noturno           636  50.1    49.7  25.5                   17.7\n",
            "\u001b[90m19\u001b[39m Centro-Oeste Matutino           47  46.0    45.9  23.8                   17.6\n",
            "\u001b[90m20\u001b[39m Norte        Noturno            86  39.1    38.7  23.2                   12.5\n",
            "\u001b[90m# ℹ 2 more variables: assimetria <dbl>, curtose <dbl>\u001b[39m\n"
          ]
        },
        {
          "output_type": "stream",
          "name": "stderr",
          "text": [
            "ERROR while rich displaying an object: \u001b[1m\u001b[33mError\u001b[39m in `geom_histogram()`:\u001b[22m\n",
            "\u001b[1m\u001b[22m\u001b[33m!\u001b[39m Problem while computing aesthetics.\n",
            "\u001b[36mℹ\u001b[39m Error occurred in the 1st layer.\n",
            "\u001b[1mCaused by error:\u001b[22m\n",
            "\u001b[33m!\u001b[39m object 'turno' not found\n",
            "\n",
            "Traceback:\n",
            "1. sapply(x, f, simplify = simplify)\n",
            "2. lapply(X = X, FUN = FUN, ...)\n",
            "3. FUN(X[[i]], ...)\n",
            "4. tryCatch(withCallingHandlers({\n",
            " .     if (!mime %in% names(repr::mime2repr)) \n",
            " .         stop(\"No repr_* for mimetype \", mime, \" in repr::mime2repr\")\n",
            " .     rpr <- repr::mime2repr[[mime]](obj)\n",
            " .     if (is.null(rpr)) \n",
            " .         return(NULL)\n",
            " .     prepare_content(is.raw(rpr), rpr)\n",
            " . }, error = error_handler), error = outer_handler)\n",
            "5. tryCatchList(expr, classes, parentenv, handlers)\n",
            "6. tryCatchOne(expr, names, parentenv, handlers[[1L]])\n",
            "7. doTryCatch(return(expr), name, parentenv, handler)\n",
            "8. withCallingHandlers({\n",
            " .     if (!mime %in% names(repr::mime2repr)) \n",
            " .         stop(\"No repr_* for mimetype \", mime, \" in repr::mime2repr\")\n",
            " .     rpr <- repr::mime2repr[[mime]](obj)\n",
            " .     if (is.null(rpr)) \n",
            " .         return(NULL)\n",
            " .     prepare_content(is.raw(rpr), rpr)\n",
            " . }, error = error_handler)\n",
            "9. repr::mime2repr[[mime]](obj)\n",
            "10. repr_text.default(obj)\n",
            "11. paste(capture.output(print(obj)), collapse = \"\\n\")\n",
            "12. capture.output(print(obj))\n",
            "13. withVisible(...elt(i))\n",
            "14. print(obj)\n",
            "15. print.ggplot(obj)\n",
            "16. ggplot_build(x)\n",
            "17. ggplot_build.ggplot(x)\n",
            "18. by_layer(function(l, d) l$compute_aesthetics(d, plot), layers, \n",
            "  .     data, \"computing aesthetics\")\n",
            "19. try_fetch(for (i in seq_along(data)) {\n",
            "  .     out[[i]] <- f(l = layers[[i]], d = data[[i]])\n",
            "  . }, error = function(cnd) {\n",
            "  .     cli::cli_abort(c(\"Problem while {step}.\", i = \"Error occurred in the {ordinal(i)} layer.\"), \n",
            "  .         call = layers[[i]]$constructor, parent = cnd)\n",
            "  . })\n",
            "20. tryCatch(withCallingHandlers(expr, condition = function(cnd) {\n",
            "  .     {\n",
            "  .         .__handler_frame__. <- TRUE\n",
            "  .         .__setup_frame__. <- frame\n",
            "  .         if (inherits(cnd, \"message\")) {\n",
            "  .             except <- c(\"warning\", \"error\")\n",
            "  .         }\n",
            "  .         else if (inherits(cnd, \"warning\")) {\n",
            "  .             except <- \"error\"\n",
            "  .         }\n",
            "  .         else {\n",
            "  .             except <- \"\"\n",
            "  .         }\n",
            "  .     }\n",
            "  .     while (!is_null(cnd)) {\n",
            "  .         if (inherits(cnd, \"error\")) {\n",
            "  .             out <- handlers[[1L]](cnd)\n",
            "  .             if (!inherits(out, \"rlang_zap\")) \n",
            "  .                 throw(out)\n",
            "  .         }\n",
            "  .         inherit <- .subset2(.subset2(cnd, \"rlang\"), \"inherit\")\n",
            "  .         if (is_false(inherit)) {\n",
            "  .             return()\n",
            "  .         }\n",
            "  .         cnd <- .subset2(cnd, \"parent\")\n",
            "  .     }\n",
            "  . }), stackOverflowError = handlers[[1L]])\n",
            "21. tryCatchList(expr, classes, parentenv, handlers)\n",
            "22. tryCatchOne(expr, names, parentenv, handlers[[1L]])\n",
            "23. doTryCatch(return(expr), name, parentenv, handler)\n",
            "24. withCallingHandlers(expr, condition = function(cnd) {\n",
            "  .     {\n",
            "  .         .__handler_frame__. <- TRUE\n",
            "  .         .__setup_frame__. <- frame\n",
            "  .         if (inherits(cnd, \"message\")) {\n",
            "  .             except <- c(\"warning\", \"error\")\n",
            "  .         }\n",
            "  .         else if (inherits(cnd, \"warning\")) {\n",
            "  .             except <- \"error\"\n",
            "  .         }\n",
            "  .         else {\n",
            "  .             except <- \"\"\n",
            "  .         }\n",
            "  .     }\n",
            "  .     while (!is_null(cnd)) {\n",
            "  .         if (inherits(cnd, \"error\")) {\n",
            "  .             out <- handlers[[1L]](cnd)\n",
            "  .             if (!inherits(out, \"rlang_zap\")) \n",
            "  .                 throw(out)\n",
            "  .         }\n",
            "  .         inherit <- .subset2(.subset2(cnd, \"rlang\"), \"inherit\")\n",
            "  .         if (is_false(inherit)) {\n",
            "  .             return()\n",
            "  .         }\n",
            "  .         cnd <- .subset2(cnd, \"parent\")\n",
            "  .     }\n",
            "  . })\n",
            "25. f(l = layers[[i]], d = data[[i]])\n",
            "26. l$compute_aesthetics(d, plot)\n",
            "27. compute_aesthetics(..., self = self)\n",
            "28. lapply(aesthetics, eval_tidy, data = data, env = env)\n",
            "29. FUN(X[[i]], ...)\n",
            "30. .handleSimpleError(function (cnd) \n",
            "  . {\n",
            "  .     {\n",
            "  .         .__handler_frame__. <- TRUE\n",
            "  .         .__setup_frame__. <- frame\n",
            "  .         if (inherits(cnd, \"message\")) {\n",
            "  .             except <- c(\"warning\", \"error\")\n",
            "  .         }\n",
            "  .         else if (inherits(cnd, \"warning\")) {\n",
            "  .             except <- \"error\"\n",
            "  .         }\n",
            "  .         else {\n",
            "  .             except <- \"\"\n",
            "  .         }\n",
            "  .     }\n",
            "  .     while (!is_null(cnd)) {\n",
            "  .         if (inherits(cnd, \"error\")) {\n",
            "  .             out <- handlers[[1L]](cnd)\n",
            "  .             if (!inherits(out, \"rlang_zap\")) \n",
            "  .                 throw(out)\n",
            "  .         }\n",
            "  .         inherit <- .subset2(.subset2(cnd, \"rlang\"), \"inherit\")\n",
            "  .         if (is_false(inherit)) {\n",
            "  .             return()\n",
            "  .         }\n",
            "  .         cnd <- .subset2(cnd, \"parent\")\n",
            "  .     }\n",
            "  . }, \"object 'turno' not found\", base::quote(NULL))\n",
            "31. h(simpleError(msg, call))\n",
            "32. handlers[[1L]](cnd)\n",
            "33. cli::cli_abort(c(\"Problem while {step}.\", i = \"Error occurred in the {ordinal(i)} layer.\"), \n",
            "  .     call = layers[[i]]$constructor, parent = cnd)\n",
            "34. rlang::abort(message, ..., call = call, use_cli_format = TRUE, \n",
            "  .     .frame = .frame)\n",
            "35. signal_abort(cnd, .file)\n"
          ]
        },
        {
          "output_type": "display_data",
          "data": {
            "text/plain": [
              "plot without title"
            ],
            "image/png": "[encoded data removed]"
          },
          "metadata": {
            "image/png": {
              "width": 420,
              "height": 420
            }
          }
        },
        {
          "output_type": "display_data",
          "data": {
            "text/plain": [
              "plot without title"
            ],
            "image/png": "[encoded data removed]"
          },
          "metadata": {
            "image/png": {
              "width": 420,
              "height": 420
            }
          }
        }
      ]
    },
    {
      "cell_type": "markdown",
      "source": [
        "Os dados analisados indicam que há, sim, diferenças de desempenho entre os turnos, mas essas diferenças não são uniformes em todas as regiões. Embora o turno noturno tenha apresentado médias superiores em vários contextos, o desempenho dos estudantes varia significativamente de acordo com a região. O turno matutino, que inicialmente poderia ser associado a um melhor desempenho, não se destacou de forma consistente, e o turno integral, apesar de mais numeroso, apresentou média inferior em diversas regiões. Portanto, não é possível afirmar que um turno é universalmente superior aos demais — o padrão de desempenho está relacionado a características regionais e contextuais."
      ],
      "metadata": {
        "id": "lHV0co-2Ojkf"
      }
    }
  ]
}